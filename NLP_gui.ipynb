{
  "nbformat": 4,
  "nbformat_minor": 0,
  "metadata": {
    "colab": {
      "private_outputs": true,
      "provenance": []
    },
    "kernelspec": {
      "name": "python3",
      "display_name": "Python 3"
    },
    "language_info": {
      "name": "python"
    }
  },
  "cells": [
    {
      "cell_type": "code",
      "source": [
        "# Install required libraries\n",
        "!pip install git+https://github.com/PrithivirajDamodaran/Gramformer.git -q\n",
        "!pip install gradio -q\n",
        "!pip install nltk -q"
      ],
      "metadata": {
        "id": "gUvURMqJgLmn"
      },
      "execution_count": null,
      "outputs": []
    },
    {
      "cell_type": "code",
      "source": [
        "# Import libraries\n",
        "import gradio as gr\n",
        "import nltk\n",
        "from gramformer import Gramformer\n",
        "from nltk.tokenize import sent_tokenize\n",
        "import warnings\n",
        "import os\n",
        "\n",
        "# Suppress FutureWarning messages from transformers\n",
        "warnings.filterwarnings('ignore', category=FutureWarning)\n",
        "\n",
        "# Download NLTK data for sentence tokenization\n",
        "nltk.download('punkt', quiet=True)\n",
        "nltk.download('punkt_tab', quiet=True)"
      ],
      "metadata": {
        "id": "B0DX3fBHpEIQ"
      },
      "execution_count": null,
      "outputs": []
    },
    {
      "cell_type": "code",
      "source": [
        "# Initialize Gramformer (no GPU for simplicity)\n",
        "gf = Gramformer(models=1, use_gpu=False)\n",
        "\n",
        "# Function to correct a single sentence\n",
        "def correct_sentence_grammar(sentence):\n",
        "    try:\n",
        "        corrections = gf.correct(sentence, max_candidates=1)\n",
        "        for corrected in corrections:\n",
        "            if corrected.strip() != sentence.strip():\n",
        "                return corrected\n",
        "        return sentence\n",
        "    except Exception as e:\n",
        "        print(f\"Gramformer error: {e}\")\n",
        "        return sentence\n",
        "\n",
        "# Function to process text (split into sentences and correct)\n",
        "def process_text(text):\n",
        "    sentences = sent_tokenize(text)\n",
        "    corrected_sentences = [correct_sentence_grammar(sentence) for sentence in sentences]\n",
        "    return sentences, corrected_sentences\n",
        "\n",
        "# Function to generate HTML table for results\n",
        "def generate_results_html(original_sentences, corrected_sentences):\n",
        "    html = \"<h3>Results</h3><table><tr><th>Before</th><th>After</th></tr>\"\n",
        "    for orig, corr in zip(original_sentences, corrected_sentences):\n",
        "        html += f\"<tr><td style='color:red'>{orig}</td><td style='color:green'>{corr}</td></tr>\"\n",
        "    html += \"</table>\"\n",
        "    return html\n",
        "\n",
        "# Main function for the Gradio app\n",
        "def correct_text(text, file):\n",
        "    try:\n",
        "        # If a file is uploaded, read its content\n",
        "        if file is not None:\n",
        "            with open(file.name, 'r', encoding='utf-8') as f:\n",
        "                text = f.read()\n",
        "        # Check if text is empty\n",
        "        if not text.strip():\n",
        "            return \"Please enter text or upload a .txt file.\"\n",
        "        # Process the text\n",
        "        original_sentences, corrected_sentences = process_text(text)\n",
        "        # Return results as HTML\n",
        "        return generate_results_html(original_sentences, corrected_sentences)\n",
        "    except Exception as e:\n",
        "        return f\"Error: {str(e)}\"\n",
        "\n",
        "# Create Gradio interface\n",
        "interface = gr.Interface(\n",
        "    fn=correct_text,\n",
        "    inputs=[\n",
        "        gr.Textbox(lines=4, placeholder=\"Enter text here...\"),\n",
        "        gr.File(label=\"Upload .txt file\")\n",
        "    ],\n",
        "    outputs=gr.HTML(),\n",
        "    title=\"Natural Language Correction System\",\n",
        "    description=\"Correct your text using advanced NLP models.\"\n",
        ")\n",
        "\n",
        "# Launch the app quietly with a public URL\n",
        "interface.launch(share=True, debug=False, show_error=False, quiet=True)"
      ],
      "metadata": {
        "id": "n82QgZaLgNTn"
      },
      "execution_count": null,
      "outputs": []
    }
  ]
}